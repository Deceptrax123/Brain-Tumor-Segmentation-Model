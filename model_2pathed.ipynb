{
 "cells": [
  {
   "cell_type": "code",
   "execution_count": 16,
   "metadata": {},
   "outputs": [],
   "source": [
    "import tensorflow as tf\n",
    "from keras.layers import Conv3D,Reshape,Conv3DTranspose,UpSampling3D,MaxPooling3D,Concatenate\n",
    "from keras.layers import Dropout,Input,BatchNormalization,Dense\n",
    "from keras.models import Model\n",
    "import keras"
   ]
  },
  {
   "cell_type": "code",
   "execution_count": 17,
   "metadata": {},
   "outputs": [],
   "source": [
    "input_layer=Input((128,128,128,3))\n",
    "\n",
    "#first encoding block\n",
    "\n",
    "#convoluted layers\n",
    "conv1_e_1=Conv3D(filters=4,kernel_initializer='he_normal',kernel_size=(3,3,3),activation='relu',strides=1,padding='valid',use_bias=True,bias_initializer='he_normal')(input_layer)\n",
    "conv1_e_2=Conv3D(filters=4,kernel_initializer='he_normal',kernel_size=(3,3,3),activation='relu',strides=1,padding='valid',use_bias=True,bias_initializer='he_normal')(conv1_e_1)\n",
    "conv1_e_3=Conv3D(filters=8,kernel_initializer='he_normal',kernel_size=(3,3,3),activation='relu',strides=1,padding='valid',use_bias=True,bias_initializer='he_normal')(conv1_e_2)\n",
    "conv1_e_4=Conv3D(filters=8,kernel_initializer='he_normal',kernel_size=(3,3,3),activation='relu',strides=1,padding='valid',use_bias=True,bias_initializer='he_normal')(conv1_e_3)\n",
    "conv1_e_5=Conv3D(filters=8,kernel_initializer='he_normal',kernel_size=(3,3,3),activation='relu',strides=1,padding='valid',use_bias=True,bias_initializer='he_normal')(conv1_e_4)\n",
    "\n",
    "#down sampling by a double strided convolution\n",
    "pool1_e_7=MaxPooling3D(pool_size=(2,2,2),strides=2)(conv1_e_4)\n",
    "\n",
    "#convoluted layers\n",
    "conv1_e_8=Conv3D(filters=16,kernel_initializer='he_normal',kernel_size=(3,3,3),activation='relu',strides=1,padding='valid',use_bias=True,bias_initializer='he_normal')(pool1_e_7)\n",
    "conv1_e_9=Conv3D(filters=16,kernel_initializer='he_normal',kernel_size=(3,3,3),activation='relu',strides=1,padding='valid',use_bias=True,bias_initializer='he_normal')(conv1_e_8)\n",
    "conv1_e_10=Conv3D(filters=32,kernel_initializer='he_normal',kernel_size=(3,3,3),activation='relu',strides=1,padding='valid',use_bias=True,bias_initializer='he_normal')(conv1_e_9)\n",
    "conv1_e_11=Conv3D(filters=32,kernel_initializer='he_normal',kernel_size=(3,3,3),activation='relu',strides=1,padding='valid',use_bias=True,bias_initializer='he_normal')(conv1_e_10)\n"
   ]
  },
  {
   "cell_type": "code",
   "execution_count": 18,
   "metadata": {},
   "outputs": [],
   "source": [
    "#second encoding block\n",
    "#convoluted layers\n",
    "conv2_e_1=Conv3D(filters=4,kernel_initializer='he_normal',kernel_size=(3,3,3),activation='relu',strides=1,padding='valid',use_bias=True,bias_initializer='he_normal')(input_layer)\n",
    "conv2_e_2=Conv3D(filters=4,kernel_initializer='he_normal',kernel_size=(3,3,3),activation='relu',strides=1,padding='valid',use_bias=True,bias_initializer='he_normal')(conv2_e_1)\n",
    "conv2_e_3=Conv3D(filters=8,kernel_initializer='he_normal',kernel_size=(3,3,3),activation='relu',strides=1,padding='valid',use_bias=True,bias_initializer='he_normal')(conv2_e_2)\n",
    "conv2_e_4=Conv3D(filters=8,kernel_initializer='he_normal',kernel_size=(3,3,3),activation='relu',strides=1,padding='valid',use_bias=True,bias_initializer='he_normal')(conv2_e_3)\n",
    "conv2_e_5=Conv3D(filters=8,kernel_initializer='he_normal',kernel_size=(3,3,3),activation='relu',strides=1,padding='valid',use_bias=True,bias_initializer='he_normal')(conv2_e_4)\n",
    "\n",
    "\n",
    "#Pooling layer\n",
    "pool2_e_5=MaxPooling3D(pool_size=(2,2,2),strides=2)(conv2_e_4)\n",
    "\n",
    "#convoluated layers\n",
    "conv2_e_5=Conv3D(filters=16,kernel_size=(3,3,3),kernel_initializer='he_normal',activation='relu',strides=1,use_bias=True,padding='valid',bias_initializer='he_normal')(pool2_e_5)\n",
    "conv2_e_6=Conv3D(filters=16,kernel_size=(3,3,3),kernel_initializer='he_normal',activation='relu',strides=1,use_bias=True,padding='valid',bias_initializer='he_normal')(conv2_e_5)\n",
    "conv2_e_7=Conv3D(filters=32,kernel_size=(3,3,3),kernel_initializer='he_normal',activation='relu',strides=1,use_bias=True,padding='valid',bias_initializer='he_normal')(conv2_e_6)\n",
    "conv2_e_8=Conv3D(filters=32,kernel_size=(3,3,3),kernel_initializer='he_normal',activation='relu',strides=1,use_bias=True,padding='valid',bias_initializer='he_normal')(conv2_e_7)\n",
    "\n"
   ]
  },
  {
   "cell_type": "code",
   "execution_count": 19,
   "metadata": {},
   "outputs": [],
   "source": [
    "#Concatenate both the encoding blocks\n",
    "concat_layer=Concatenate(axis=4)([conv1_e_11,conv2_e_8])"
   ]
  },
  {
   "cell_type": "code",
   "execution_count": 20,
   "metadata": {},
   "outputs": [],
   "source": [
    "conv_e_9=Conv3D(filters=64,kernel_size=(3,3,3),kernel_initializer='he_normal',activation='relu',strides=1,use_bias=True,padding='valid',bias_initializer='he_normal')(concat_layer)\n",
    "conv_e_10=Conv3D(filters=128,kernel_size=(3,3,3),kernel_initializer='he_normal',activation='relu',strides=1,use_bias=True,padding='valid',bias_initializer='he_normal')(conv_e_9)\n",
    "\n"
   ]
  },
  {
   "cell_type": "code",
   "execution_count": null,
   "metadata": {},
   "outputs": [],
   "source": [
    "#decoding network\n",
    "deconv_1=Conv3DTranspose(filters=128,kernel_size=(3,3,3),kernel_initializer='he_normal',activation='relu',strides=1)"
   ]
  },
  {
   "cell_type": "code",
   "execution_count": 21,
   "metadata": {},
   "outputs": [],
   "source": [
    "model=Model(inputs=input_layer,outputs=conv_e_10)"
   ]
  },
  {
   "cell_type": "code",
   "execution_count": 22,
   "metadata": {},
   "outputs": [
    {
     "name": "stdout",
     "output_type": "stream",
     "text": [
      "Model: \"model_2\"\n",
      "__________________________________________________________________________________________________\n",
      " Layer (type)                   Output Shape         Param #     Connected to                     \n",
      "==================================================================================================\n",
      " input_3 (InputLayer)           [(None, 128, 128, 1  0           []                               \n",
      "                                28, 3)]                                                           \n",
      "                                                                                                  \n",
      " conv3d_38 (Conv3D)             (None, 126, 126, 12  328         ['input_3[0][0]']                \n",
      "                                6, 4)                                                             \n",
      "                                                                                                  \n",
      " conv3d_47 (Conv3D)             (None, 126, 126, 12  328         ['input_3[0][0]']                \n",
      "                                6, 4)                                                             \n",
      "                                                                                                  \n",
      " conv3d_39 (Conv3D)             (None, 124, 124, 12  436         ['conv3d_38[0][0]']              \n",
      "                                4, 4)                                                             \n",
      "                                                                                                  \n",
      " conv3d_48 (Conv3D)             (None, 124, 124, 12  436         ['conv3d_47[0][0]']              \n",
      "                                4, 4)                                                             \n",
      "                                                                                                  \n",
      " conv3d_40 (Conv3D)             (None, 122, 122, 12  872         ['conv3d_39[0][0]']              \n",
      "                                2, 8)                                                             \n",
      "                                                                                                  \n",
      " conv3d_49 (Conv3D)             (None, 122, 122, 12  872         ['conv3d_48[0][0]']              \n",
      "                                2, 8)                                                             \n",
      "                                                                                                  \n",
      " conv3d_41 (Conv3D)             (None, 120, 120, 12  1736        ['conv3d_40[0][0]']              \n",
      "                                0, 8)                                                             \n",
      "                                                                                                  \n",
      " conv3d_50 (Conv3D)             (None, 120, 120, 12  1736        ['conv3d_49[0][0]']              \n",
      "                                0, 8)                                                             \n",
      "                                                                                                  \n",
      " max_pooling3d_4 (MaxPooling3D)  (None, 60, 60, 60,   0          ['conv3d_41[0][0]']              \n",
      "                                8)                                                                \n",
      "                                                                                                  \n",
      " max_pooling3d_5 (MaxPooling3D)  (None, 60, 60, 60,   0          ['conv3d_50[0][0]']              \n",
      "                                8)                                                                \n",
      "                                                                                                  \n",
      " conv3d_43 (Conv3D)             (None, 58, 58, 58,   3472        ['max_pooling3d_4[0][0]']        \n",
      "                                16)                                                               \n",
      "                                                                                                  \n",
      " conv3d_52 (Conv3D)             (None, 58, 58, 58,   3472        ['max_pooling3d_5[0][0]']        \n",
      "                                16)                                                               \n",
      "                                                                                                  \n",
      " conv3d_44 (Conv3D)             (None, 56, 56, 56,   6928        ['conv3d_43[0][0]']              \n",
      "                                16)                                                               \n",
      "                                                                                                  \n",
      " conv3d_53 (Conv3D)             (None, 56, 56, 56,   6928        ['conv3d_52[0][0]']              \n",
      "                                16)                                                               \n",
      "                                                                                                  \n",
      " conv3d_45 (Conv3D)             (None, 54, 54, 54,   13856       ['conv3d_44[0][0]']              \n",
      "                                32)                                                               \n",
      "                                                                                                  \n",
      " conv3d_54 (Conv3D)             (None, 54, 54, 54,   13856       ['conv3d_53[0][0]']              \n",
      "                                32)                                                               \n",
      "                                                                                                  \n",
      " conv3d_46 (Conv3D)             (None, 52, 52, 52,   27680       ['conv3d_45[0][0]']              \n",
      "                                32)                                                               \n",
      "                                                                                                  \n",
      " conv3d_55 (Conv3D)             (None, 52, 52, 52,   27680       ['conv3d_54[0][0]']              \n",
      "                                32)                                                               \n",
      "                                                                                                  \n",
      " concatenate_2 (Concatenate)    (None, 52, 52, 52,   0           ['conv3d_46[0][0]',              \n",
      "                                64)                               'conv3d_55[0][0]']              \n",
      "                                                                                                  \n",
      " conv3d_56 (Conv3D)             (None, 50, 50, 50,   110656      ['concatenate_2[0][0]']          \n",
      "                                64)                                                               \n",
      "                                                                                                  \n",
      " conv3d_57 (Conv3D)             (None, 48, 48, 48,   221312      ['conv3d_56[0][0]']              \n",
      "                                128)                                                              \n",
      "                                                                                                  \n",
      "==================================================================================================\n",
      "Total params: 442,584\n",
      "Trainable params: 442,584\n",
      "Non-trainable params: 0\n",
      "__________________________________________________________________________________________________\n"
     ]
    }
   ],
   "source": [
    "model.summary()"
   ]
  },
  {
   "cell_type": "code",
   "execution_count": null,
   "metadata": {},
   "outputs": [],
   "source": []
  }
 ],
 "metadata": {
  "kernelspec": {
   "display_name": ".venv",
   "language": "python",
   "name": "python3"
  },
  "language_info": {
   "codemirror_mode": {
    "name": "ipython",
    "version": 3
   },
   "file_extension": ".py",
   "mimetype": "text/x-python",
   "name": "python",
   "nbconvert_exporter": "python",
   "pygments_lexer": "ipython3",
   "version": "3.10.11"
  },
  "orig_nbformat": 4
 },
 "nbformat": 4,
 "nbformat_minor": 2
}
