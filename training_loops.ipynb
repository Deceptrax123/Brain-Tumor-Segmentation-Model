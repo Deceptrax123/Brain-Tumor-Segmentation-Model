{
 "cells": [
  {
   "cell_type": "code",
   "execution_count": null,
   "metadata": {},
   "outputs": [
    {
     "ename": "",
     "evalue": "",
     "output_type": "error",
     "traceback": [
      "\u001b[1;31mRunning cells with 'tf2.4' requires the ipykernel package.\n",
      "\u001b[1;31mRun the following command to install 'ipykernel' into the Python environment. \n",
      "\u001b[1;31mCommand: 'conda install -n tf2.4 ipykernel --update-deps --force-reinstall'"
     ]
    }
   ],
   "source": [
    "import numpy as np\n",
    "import matplotlib.pyplot as plt\n",
    "import tensorflow as tf\n",
    "import matplotlib.image as img\n",
    "from sklearn.model_selection import train_test_split\n",
    "from keras.optimizers import Adam,rmsprop,Adadelta\n",
    "from keras.metrics import categorical_crossentropy\n",
    "from batch_generator import batch_generator\n",
    "from metrics import (dice_coef,dice_loss,categorical_loss)\n",
    "from models import create\n",
    "from model_2pathed import create_2pathed\n",
    "from model_2pathed_shallow import create_2pathed_shallow\n",
    "from image_generator import generate_image\n",
    "from glob import glob\n",
    "import os\n"
   ]
  },
  {
   "cell_type": "code",
   "execution_count": null,
   "metadata": {},
   "outputs": [],
   "source": []
  },
  {
   "cell_type": "code",
   "execution_count": 16,
   "metadata": {},
   "outputs": [
    {
     "data": {
      "text/plain": [
       "[PhysicalDevice(name='/physical_device:CPU:0', device_type='CPU')]"
      ]
     },
     "execution_count": 16,
     "metadata": {},
     "output_type": "execute_result"
    }
   ],
   "source": [
    "tf.config.list_physical_devices()"
   ]
  },
  {
   "cell_type": "code",
   "execution_count": 10,
   "metadata": {},
   "outputs": [],
   "source": [
    "samples_paths=sorted(glob(\"./Data/Train/samples_processed/*.npy\"))\n",
    "masks_paths=sorted(glob(\"./Data/Train/masks_reformatted/*.npy\"))\n"
   ]
  },
  {
   "cell_type": "code",
   "execution_count": 11,
   "metadata": {},
   "outputs": [
    {
     "data": {
      "text/plain": [
       "['./Data/Train/samples_processed\\\\sample_001.npy',\n",
       " './Data/Train/samples_processed\\\\sample_002.npy',\n",
       " './Data/Train/samples_processed\\\\sample_003.npy',\n",
       " './Data/Train/samples_processed\\\\sample_004.npy',\n",
       " './Data/Train/samples_processed\\\\sample_005.npy',\n",
       " './Data/Train/samples_processed\\\\sample_006.npy',\n",
       " './Data/Train/samples_processed\\\\sample_007.npy',\n",
       " './Data/Train/samples_processed\\\\sample_008.npy',\n",
       " './Data/Train/samples_processed\\\\sample_009.npy',\n",
       " './Data/Train/samples_processed\\\\sample_010.npy',\n",
       " './Data/Train/samples_processed\\\\sample_011.npy',\n",
       " './Data/Train/samples_processed\\\\sample_012.npy',\n",
       " './Data/Train/samples_processed\\\\sample_013.npy',\n",
       " './Data/Train/samples_processed\\\\sample_014.npy',\n",
       " './Data/Train/samples_processed\\\\sample_015.npy',\n",
       " './Data/Train/samples_processed\\\\sample_016.npy',\n",
       " './Data/Train/samples_processed\\\\sample_017.npy',\n",
       " './Data/Train/samples_processed\\\\sample_018.npy',\n",
       " './Data/Train/samples_processed\\\\sample_019.npy',\n",
       " './Data/Train/samples_processed\\\\sample_020.npy',\n",
       " './Data/Train/samples_processed\\\\sample_021.npy',\n",
       " './Data/Train/samples_processed\\\\sample_022.npy',\n",
       " './Data/Train/samples_processed\\\\sample_023.npy',\n",
       " './Data/Train/samples_processed\\\\sample_024.npy',\n",
       " './Data/Train/samples_processed\\\\sample_025.npy',\n",
       " './Data/Train/samples_processed\\\\sample_026.npy',\n",
       " './Data/Train/samples_processed\\\\sample_027.npy',\n",
       " './Data/Train/samples_processed\\\\sample_028.npy',\n",
       " './Data/Train/samples_processed\\\\sample_029.npy',\n",
       " './Data/Train/samples_processed\\\\sample_030.npy',\n",
       " './Data/Train/samples_processed\\\\sample_031.npy',\n",
       " './Data/Train/samples_processed\\\\sample_032.npy',\n",
       " './Data/Train/samples_processed\\\\sample_033.npy',\n",
       " './Data/Train/samples_processed\\\\sample_034.npy',\n",
       " './Data/Train/samples_processed\\\\sample_035.npy',\n",
       " './Data/Train/samples_processed\\\\sample_036.npy',\n",
       " './Data/Train/samples_processed\\\\sample_037.npy',\n",
       " './Data/Train/samples_processed\\\\sample_038.npy',\n",
       " './Data/Train/samples_processed\\\\sample_039.npy',\n",
       " './Data/Train/samples_processed\\\\sample_040.npy',\n",
       " './Data/Train/samples_processed\\\\sample_041.npy',\n",
       " './Data/Train/samples_processed\\\\sample_042.npy',\n",
       " './Data/Train/samples_processed\\\\sample_043.npy',\n",
       " './Data/Train/samples_processed\\\\sample_044.npy',\n",
       " './Data/Train/samples_processed\\\\sample_045.npy',\n",
       " './Data/Train/samples_processed\\\\sample_046.npy',\n",
       " './Data/Train/samples_processed\\\\sample_047.npy',\n",
       " './Data/Train/samples_processed\\\\sample_048.npy',\n",
       " './Data/Train/samples_processed\\\\sample_049.npy',\n",
       " './Data/Train/samples_processed\\\\sample_050.npy',\n",
       " './Data/Train/samples_processed\\\\sample_051.npy',\n",
       " './Data/Train/samples_processed\\\\sample_052.npy',\n",
       " './Data/Train/samples_processed\\\\sample_053.npy',\n",
       " './Data/Train/samples_processed\\\\sample_054.npy',\n",
       " './Data/Train/samples_processed\\\\sample_055.npy',\n",
       " './Data/Train/samples_processed\\\\sample_056.npy',\n",
       " './Data/Train/samples_processed\\\\sample_057.npy',\n",
       " './Data/Train/samples_processed\\\\sample_058.npy',\n",
       " './Data/Train/samples_processed\\\\sample_059.npy',\n",
       " './Data/Train/samples_processed\\\\sample_060.npy',\n",
       " './Data/Train/samples_processed\\\\sample_061.npy',\n",
       " './Data/Train/samples_processed\\\\sample_062.npy',\n",
       " './Data/Train/samples_processed\\\\sample_063.npy',\n",
       " './Data/Train/samples_processed\\\\sample_064.npy',\n",
       " './Data/Train/samples_processed\\\\sample_065.npy',\n",
       " './Data/Train/samples_processed\\\\sample_066.npy',\n",
       " './Data/Train/samples_processed\\\\sample_067.npy',\n",
       " './Data/Train/samples_processed\\\\sample_068.npy',\n",
       " './Data/Train/samples_processed\\\\sample_069.npy',\n",
       " './Data/Train/samples_processed\\\\sample_070.npy',\n",
       " './Data/Train/samples_processed\\\\sample_071.npy',\n",
       " './Data/Train/samples_processed\\\\sample_072.npy',\n",
       " './Data/Train/samples_processed\\\\sample_073.npy',\n",
       " './Data/Train/samples_processed\\\\sample_074.npy',\n",
       " './Data/Train/samples_processed\\\\sample_075.npy',\n",
       " './Data/Train/samples_processed\\\\sample_076.npy',\n",
       " './Data/Train/samples_processed\\\\sample_077.npy',\n",
       " './Data/Train/samples_processed\\\\sample_078.npy',\n",
       " './Data/Train/samples_processed\\\\sample_079.npy',\n",
       " './Data/Train/samples_processed\\\\sample_080.npy',\n",
       " './Data/Train/samples_processed\\\\sample_081.npy',\n",
       " './Data/Train/samples_processed\\\\sample_082.npy',\n",
       " './Data/Train/samples_processed\\\\sample_083.npy',\n",
       " './Data/Train/samples_processed\\\\sample_084.npy',\n",
       " './Data/Train/samples_processed\\\\sample_085.npy',\n",
       " './Data/Train/samples_processed\\\\sample_086.npy',\n",
       " './Data/Train/samples_processed\\\\sample_087.npy',\n",
       " './Data/Train/samples_processed\\\\sample_088.npy',\n",
       " './Data/Train/samples_processed\\\\sample_089.npy',\n",
       " './Data/Train/samples_processed\\\\sample_090.npy',\n",
       " './Data/Train/samples_processed\\\\sample_091.npy',\n",
       " './Data/Train/samples_processed\\\\sample_092.npy',\n",
       " './Data/Train/samples_processed\\\\sample_093.npy',\n",
       " './Data/Train/samples_processed\\\\sample_094.npy',\n",
       " './Data/Train/samples_processed\\\\sample_095.npy',\n",
       " './Data/Train/samples_processed\\\\sample_096.npy',\n",
       " './Data/Train/samples_processed\\\\sample_097.npy',\n",
       " './Data/Train/samples_processed\\\\sample_098.npy',\n",
       " './Data/Train/samples_processed\\\\sample_099.npy',\n",
       " './Data/Train/samples_processed\\\\sample_100.npy',\n",
       " './Data/Train/samples_processed\\\\sample_101.npy',\n",
       " './Data/Train/samples_processed\\\\sample_102.npy',\n",
       " './Data/Train/samples_processed\\\\sample_103.npy',\n",
       " './Data/Train/samples_processed\\\\sample_104.npy',\n",
       " './Data/Train/samples_processed\\\\sample_105.npy',\n",
       " './Data/Train/samples_processed\\\\sample_106.npy',\n",
       " './Data/Train/samples_processed\\\\sample_107.npy',\n",
       " './Data/Train/samples_processed\\\\sample_108.npy',\n",
       " './Data/Train/samples_processed\\\\sample_109.npy',\n",
       " './Data/Train/samples_processed\\\\sample_110.npy',\n",
       " './Data/Train/samples_processed\\\\sample_111.npy',\n",
       " './Data/Train/samples_processed\\\\sample_112.npy',\n",
       " './Data/Train/samples_processed\\\\sample_113.npy',\n",
       " './Data/Train/samples_processed\\\\sample_114.npy',\n",
       " './Data/Train/samples_processed\\\\sample_115.npy',\n",
       " './Data/Train/samples_processed\\\\sample_116.npy',\n",
       " './Data/Train/samples_processed\\\\sample_117.npy',\n",
       " './Data/Train/samples_processed\\\\sample_118.npy',\n",
       " './Data/Train/samples_processed\\\\sample_119.npy',\n",
       " './Data/Train/samples_processed\\\\sample_120.npy',\n",
       " './Data/Train/samples_processed\\\\sample_121.npy',\n",
       " './Data/Train/samples_processed\\\\sample_122.npy',\n",
       " './Data/Train/samples_processed\\\\sample_123.npy',\n",
       " './Data/Train/samples_processed\\\\sample_124.npy',\n",
       " './Data/Train/samples_processed\\\\sample_125.npy',\n",
       " './Data/Train/samples_processed\\\\sample_126.npy',\n",
       " './Data/Train/samples_processed\\\\sample_127.npy',\n",
       " './Data/Train/samples_processed\\\\sample_128.npy',\n",
       " './Data/Train/samples_processed\\\\sample_129.npy',\n",
       " './Data/Train/samples_processed\\\\sample_130.npy',\n",
       " './Data/Train/samples_processed\\\\sample_131.npy',\n",
       " './Data/Train/samples_processed\\\\sample_132.npy',\n",
       " './Data/Train/samples_processed\\\\sample_133.npy',\n",
       " './Data/Train/samples_processed\\\\sample_134.npy',\n",
       " './Data/Train/samples_processed\\\\sample_135.npy',\n",
       " './Data/Train/samples_processed\\\\sample_136.npy',\n",
       " './Data/Train/samples_processed\\\\sample_137.npy',\n",
       " './Data/Train/samples_processed\\\\sample_138.npy',\n",
       " './Data/Train/samples_processed\\\\sample_139.npy',\n",
       " './Data/Train/samples_processed\\\\sample_140.npy',\n",
       " './Data/Train/samples_processed\\\\sample_141.npy',\n",
       " './Data/Train/samples_processed\\\\sample_142.npy',\n",
       " './Data/Train/samples_processed\\\\sample_143.npy',\n",
       " './Data/Train/samples_processed\\\\sample_144.npy',\n",
       " './Data/Train/samples_processed\\\\sample_145.npy',\n",
       " './Data/Train/samples_processed\\\\sample_146.npy',\n",
       " './Data/Train/samples_processed\\\\sample_147.npy',\n",
       " './Data/Train/samples_processed\\\\sample_148.npy',\n",
       " './Data/Train/samples_processed\\\\sample_149.npy',\n",
       " './Data/Train/samples_processed\\\\sample_150.npy',\n",
       " './Data/Train/samples_processed\\\\sample_151.npy',\n",
       " './Data/Train/samples_processed\\\\sample_152.npy',\n",
       " './Data/Train/samples_processed\\\\sample_153.npy',\n",
       " './Data/Train/samples_processed\\\\sample_154.npy',\n",
       " './Data/Train/samples_processed\\\\sample_155.npy',\n",
       " './Data/Train/samples_processed\\\\sample_156.npy',\n",
       " './Data/Train/samples_processed\\\\sample_157.npy',\n",
       " './Data/Train/samples_processed\\\\sample_158.npy',\n",
       " './Data/Train/samples_processed\\\\sample_159.npy',\n",
       " './Data/Train/samples_processed\\\\sample_160.npy',\n",
       " './Data/Train/samples_processed\\\\sample_161.npy',\n",
       " './Data/Train/samples_processed\\\\sample_162.npy',\n",
       " './Data/Train/samples_processed\\\\sample_163.npy',\n",
       " './Data/Train/samples_processed\\\\sample_164.npy',\n",
       " './Data/Train/samples_processed\\\\sample_165.npy',\n",
       " './Data/Train/samples_processed\\\\sample_166.npy',\n",
       " './Data/Train/samples_processed\\\\sample_167.npy',\n",
       " './Data/Train/samples_processed\\\\sample_168.npy',\n",
       " './Data/Train/samples_processed\\\\sample_169.npy',\n",
       " './Data/Train/samples_processed\\\\sample_170.npy',\n",
       " './Data/Train/samples_processed\\\\sample_171.npy',\n",
       " './Data/Train/samples_processed\\\\sample_172.npy',\n",
       " './Data/Train/samples_processed\\\\sample_173.npy',\n",
       " './Data/Train/samples_processed\\\\sample_174.npy',\n",
       " './Data/Train/samples_processed\\\\sample_175.npy',\n",
       " './Data/Train/samples_processed\\\\sample_176.npy',\n",
       " './Data/Train/samples_processed\\\\sample_177.npy',\n",
       " './Data/Train/samples_processed\\\\sample_178.npy',\n",
       " './Data/Train/samples_processed\\\\sample_179.npy',\n",
       " './Data/Train/samples_processed\\\\sample_180.npy',\n",
       " './Data/Train/samples_processed\\\\sample_181.npy',\n",
       " './Data/Train/samples_processed\\\\sample_182.npy',\n",
       " './Data/Train/samples_processed\\\\sample_183.npy',\n",
       " './Data/Train/samples_processed\\\\sample_184.npy',\n",
       " './Data/Train/samples_processed\\\\sample_185.npy',\n",
       " './Data/Train/samples_processed\\\\sample_186.npy',\n",
       " './Data/Train/samples_processed\\\\sample_187.npy',\n",
       " './Data/Train/samples_processed\\\\sample_188.npy',\n",
       " './Data/Train/samples_processed\\\\sample_189.npy',\n",
       " './Data/Train/samples_processed\\\\sample_190.npy',\n",
       " './Data/Train/samples_processed\\\\sample_191.npy',\n",
       " './Data/Train/samples_processed\\\\sample_192.npy',\n",
       " './Data/Train/samples_processed\\\\sample_193.npy',\n",
       " './Data/Train/samples_processed\\\\sample_194.npy',\n",
       " './Data/Train/samples_processed\\\\sample_195.npy',\n",
       " './Data/Train/samples_processed\\\\sample_196.npy',\n",
       " './Data/Train/samples_processed\\\\sample_197.npy',\n",
       " './Data/Train/samples_processed\\\\sample_198.npy',\n",
       " './Data/Train/samples_processed\\\\sample_199.npy',\n",
       " './Data/Train/samples_processed\\\\sample_200.npy',\n",
       " './Data/Train/samples_processed\\\\sample_201.npy',\n",
       " './Data/Train/samples_processed\\\\sample_202.npy',\n",
       " './Data/Train/samples_processed\\\\sample_203.npy',\n",
       " './Data/Train/samples_processed\\\\sample_204.npy',\n",
       " './Data/Train/samples_processed\\\\sample_205.npy',\n",
       " './Data/Train/samples_processed\\\\sample_206.npy',\n",
       " './Data/Train/samples_processed\\\\sample_207.npy',\n",
       " './Data/Train/samples_processed\\\\sample_208.npy',\n",
       " './Data/Train/samples_processed\\\\sample_209.npy',\n",
       " './Data/Train/samples_processed\\\\sample_210.npy',\n",
       " './Data/Train/samples_processed\\\\sample_211.npy',\n",
       " './Data/Train/samples_processed\\\\sample_212.npy',\n",
       " './Data/Train/samples_processed\\\\sample_213.npy',\n",
       " './Data/Train/samples_processed\\\\sample_214.npy',\n",
       " './Data/Train/samples_processed\\\\sample_215.npy',\n",
       " './Data/Train/samples_processed\\\\sample_216.npy',\n",
       " './Data/Train/samples_processed\\\\sample_217.npy',\n",
       " './Data/Train/samples_processed\\\\sample_218.npy',\n",
       " './Data/Train/samples_processed\\\\sample_219.npy',\n",
       " './Data/Train/samples_processed\\\\sample_220.npy',\n",
       " './Data/Train/samples_processed\\\\sample_221.npy',\n",
       " './Data/Train/samples_processed\\\\sample_222.npy',\n",
       " './Data/Train/samples_processed\\\\sample_223.npy',\n",
       " './Data/Train/samples_processed\\\\sample_224.npy',\n",
       " './Data/Train/samples_processed\\\\sample_225.npy',\n",
       " './Data/Train/samples_processed\\\\sample_226.npy',\n",
       " './Data/Train/samples_processed\\\\sample_227.npy',\n",
       " './Data/Train/samples_processed\\\\sample_228.npy',\n",
       " './Data/Train/samples_processed\\\\sample_229.npy',\n",
       " './Data/Train/samples_processed\\\\sample_230.npy',\n",
       " './Data/Train/samples_processed\\\\sample_231.npy',\n",
       " './Data/Train/samples_processed\\\\sample_232.npy',\n",
       " './Data/Train/samples_processed\\\\sample_233.npy',\n",
       " './Data/Train/samples_processed\\\\sample_234.npy',\n",
       " './Data/Train/samples_processed\\\\sample_235.npy',\n",
       " './Data/Train/samples_processed\\\\sample_236.npy',\n",
       " './Data/Train/samples_processed\\\\sample_237.npy',\n",
       " './Data/Train/samples_processed\\\\sample_238.npy',\n",
       " './Data/Train/samples_processed\\\\sample_239.npy',\n",
       " './Data/Train/samples_processed\\\\sample_240.npy',\n",
       " './Data/Train/samples_processed\\\\sample_241.npy',\n",
       " './Data/Train/samples_processed\\\\sample_242.npy',\n",
       " './Data/Train/samples_processed\\\\sample_243.npy',\n",
       " './Data/Train/samples_processed\\\\sample_244.npy',\n",
       " './Data/Train/samples_processed\\\\sample_245.npy',\n",
       " './Data/Train/samples_processed\\\\sample_246.npy',\n",
       " './Data/Train/samples_processed\\\\sample_247.npy',\n",
       " './Data/Train/samples_processed\\\\sample_248.npy',\n",
       " './Data/Train/samples_processed\\\\sample_249.npy',\n",
       " './Data/Train/samples_processed\\\\sample_250.npy',\n",
       " './Data/Train/samples_processed\\\\sample_251.npy',\n",
       " './Data/Train/samples_processed\\\\sample_252.npy',\n",
       " './Data/Train/samples_processed\\\\sample_253.npy',\n",
       " './Data/Train/samples_processed\\\\sample_254.npy',\n",
       " './Data/Train/samples_processed\\\\sample_255.npy',\n",
       " './Data/Train/samples_processed\\\\sample_256.npy',\n",
       " './Data/Train/samples_processed\\\\sample_257.npy',\n",
       " './Data/Train/samples_processed\\\\sample_258.npy',\n",
       " './Data/Train/samples_processed\\\\sample_259.npy',\n",
       " './Data/Train/samples_processed\\\\sample_260.npy',\n",
       " './Data/Train/samples_processed\\\\sample_261.npy',\n",
       " './Data/Train/samples_processed\\\\sample_262.npy',\n",
       " './Data/Train/samples_processed\\\\sample_263.npy',\n",
       " './Data/Train/samples_processed\\\\sample_264.npy',\n",
       " './Data/Train/samples_processed\\\\sample_265.npy',\n",
       " './Data/Train/samples_processed\\\\sample_266.npy',\n",
       " './Data/Train/samples_processed\\\\sample_267.npy',\n",
       " './Data/Train/samples_processed\\\\sample_268.npy',\n",
       " './Data/Train/samples_processed\\\\sample_269.npy',\n",
       " './Data/Train/samples_processed\\\\sample_270.npy',\n",
       " './Data/Train/samples_processed\\\\sample_271.npy',\n",
       " './Data/Train/samples_processed\\\\sample_272.npy',\n",
       " './Data/Train/samples_processed\\\\sample_273.npy',\n",
       " './Data/Train/samples_processed\\\\sample_274.npy',\n",
       " './Data/Train/samples_processed\\\\sample_275.npy',\n",
       " './Data/Train/samples_processed\\\\sample_276.npy',\n",
       " './Data/Train/samples_processed\\\\sample_277.npy',\n",
       " './Data/Train/samples_processed\\\\sample_278.npy',\n",
       " './Data/Train/samples_processed\\\\sample_279.npy',\n",
       " './Data/Train/samples_processed\\\\sample_280.npy',\n",
       " './Data/Train/samples_processed\\\\sample_281.npy',\n",
       " './Data/Train/samples_processed\\\\sample_282.npy',\n",
       " './Data/Train/samples_processed\\\\sample_283.npy',\n",
       " './Data/Train/samples_processed\\\\sample_284.npy',\n",
       " './Data/Train/samples_processed\\\\sample_285.npy',\n",
       " './Data/Train/samples_processed\\\\sample_286.npy',\n",
       " './Data/Train/samples_processed\\\\sample_287.npy',\n",
       " './Data/Train/samples_processed\\\\sample_288.npy',\n",
       " './Data/Train/samples_processed\\\\sample_289.npy',\n",
       " './Data/Train/samples_processed\\\\sample_290.npy',\n",
       " './Data/Train/samples_processed\\\\sample_291.npy',\n",
       " './Data/Train/samples_processed\\\\sample_292.npy',\n",
       " './Data/Train/samples_processed\\\\sample_293.npy',\n",
       " './Data/Train/samples_processed\\\\sample_294.npy',\n",
       " './Data/Train/samples_processed\\\\sample_295.npy',\n",
       " './Data/Train/samples_processed\\\\sample_296.npy',\n",
       " './Data/Train/samples_processed\\\\sample_297.npy',\n",
       " './Data/Train/samples_processed\\\\sample_298.npy',\n",
       " './Data/Train/samples_processed\\\\sample_299.npy',\n",
       " './Data/Train/samples_processed\\\\sample_300.npy',\n",
       " './Data/Train/samples_processed\\\\sample_301.npy',\n",
       " './Data/Train/samples_processed\\\\sample_302.npy',\n",
       " './Data/Train/samples_processed\\\\sample_303.npy',\n",
       " './Data/Train/samples_processed\\\\sample_304.npy',\n",
       " './Data/Train/samples_processed\\\\sample_305.npy',\n",
       " './Data/Train/samples_processed\\\\sample_306.npy',\n",
       " './Data/Train/samples_processed\\\\sample_307.npy',\n",
       " './Data/Train/samples_processed\\\\sample_308.npy',\n",
       " './Data/Train/samples_processed\\\\sample_309.npy',\n",
       " './Data/Train/samples_processed\\\\sample_310.npy',\n",
       " './Data/Train/samples_processed\\\\sample_311.npy',\n",
       " './Data/Train/samples_processed\\\\sample_312.npy',\n",
       " './Data/Train/samples_processed\\\\sample_313.npy',\n",
       " './Data/Train/samples_processed\\\\sample_314.npy',\n",
       " './Data/Train/samples_processed\\\\sample_315.npy',\n",
       " './Data/Train/samples_processed\\\\sample_316.npy',\n",
       " './Data/Train/samples_processed\\\\sample_317.npy',\n",
       " './Data/Train/samples_processed\\\\sample_318.npy',\n",
       " './Data/Train/samples_processed\\\\sample_319.npy',\n",
       " './Data/Train/samples_processed\\\\sample_320.npy',\n",
       " './Data/Train/samples_processed\\\\sample_321.npy',\n",
       " './Data/Train/samples_processed\\\\sample_322.npy',\n",
       " './Data/Train/samples_processed\\\\sample_323.npy',\n",
       " './Data/Train/samples_processed\\\\sample_324.npy',\n",
       " './Data/Train/samples_processed\\\\sample_325.npy',\n",
       " './Data/Train/samples_processed\\\\sample_326.npy',\n",
       " './Data/Train/samples_processed\\\\sample_327.npy',\n",
       " './Data/Train/samples_processed\\\\sample_328.npy',\n",
       " './Data/Train/samples_processed\\\\sample_329.npy',\n",
       " './Data/Train/samples_processed\\\\sample_330.npy',\n",
       " './Data/Train/samples_processed\\\\sample_331.npy',\n",
       " './Data/Train/samples_processed\\\\sample_332.npy',\n",
       " './Data/Train/samples_processed\\\\sample_333.npy',\n",
       " './Data/Train/samples_processed\\\\sample_334.npy',\n",
       " './Data/Train/samples_processed\\\\sample_335.npy',\n",
       " './Data/Train/samples_processed\\\\sample_336.npy',\n",
       " './Data/Train/samples_processed\\\\sample_337.npy',\n",
       " './Data/Train/samples_processed\\\\sample_338.npy',\n",
       " './Data/Train/samples_processed\\\\sample_339.npy',\n",
       " './Data/Train/samples_processed\\\\sample_340.npy',\n",
       " './Data/Train/samples_processed\\\\sample_341.npy',\n",
       " './Data/Train/samples_processed\\\\sample_342.npy',\n",
       " './Data/Train/samples_processed\\\\sample_343.npy',\n",
       " './Data/Train/samples_processed\\\\sample_344.npy',\n",
       " './Data/Train/samples_processed\\\\sample_345.npy',\n",
       " './Data/Train/samples_processed\\\\sample_346.npy',\n",
       " './Data/Train/samples_processed\\\\sample_347.npy',\n",
       " './Data/Train/samples_processed\\\\sample_348.npy',\n",
       " './Data/Train/samples_processed\\\\sample_349.npy',\n",
       " './Data/Train/samples_processed\\\\sample_350.npy',\n",
       " './Data/Train/samples_processed\\\\sample_351.npy',\n",
       " './Data/Train/samples_processed\\\\sample_352.npy',\n",
       " './Data/Train/samples_processed\\\\sample_353.npy',\n",
       " './Data/Train/samples_processed\\\\sample_354.npy',\n",
       " './Data/Train/samples_processed\\\\sample_355.npy',\n",
       " './Data/Train/samples_processed\\\\sample_356.npy',\n",
       " './Data/Train/samples_processed\\\\sample_357.npy',\n",
       " './Data/Train/samples_processed\\\\sample_358.npy',\n",
       " './Data/Train/samples_processed\\\\sample_359.npy',\n",
       " './Data/Train/samples_processed\\\\sample_360.npy',\n",
       " './Data/Train/samples_processed\\\\sample_361.npy',\n",
       " './Data/Train/samples_processed\\\\sample_362.npy',\n",
       " './Data/Train/samples_processed\\\\sample_363.npy',\n",
       " './Data/Train/samples_processed\\\\sample_364.npy',\n",
       " './Data/Train/samples_processed\\\\sample_365.npy',\n",
       " './Data/Train/samples_processed\\\\sample_366.npy',\n",
       " './Data/Train/samples_processed\\\\sample_367.npy',\n",
       " './Data/Train/samples_processed\\\\sample_368.npy',\n",
       " './Data/Train/samples_processed\\\\sample_369.npy']"
      ]
     },
     "execution_count": 11,
     "metadata": {},
     "output_type": "execute_result"
    }
   ],
   "source": [
    "samples_paths"
   ]
  },
  {
   "cell_type": "code",
   "execution_count": 26,
   "metadata": {},
   "outputs": [],
   "source": [
    "train_sample_paths,test_sample_paths=train_test_split(samples_paths,test_size=0.25)"
   ]
  },
  {
   "cell_type": "code",
   "execution_count": 27,
   "metadata": {},
   "outputs": [
    {
     "data": {
      "text/plain": [
       "276"
      ]
     },
     "execution_count": 27,
     "metadata": {},
     "output_type": "execute_result"
    }
   ],
   "source": [
    "len(train_sample_paths)"
   ]
  },
  {
   "cell_type": "code",
   "execution_count": 28,
   "metadata": {},
   "outputs": [],
   "source": [
    "traingen=batch_generator(train_sample_paths,16) #Mini batch size of 16\n",
    "testgen=batch_generator(test_sample_paths,16)\n"
   ]
  },
  {
   "cell_type": "code",
   "execution_count": null,
   "metadata": {},
   "outputs": [],
   "source": []
  },
  {
   "cell_type": "code",
   "execution_count": 18,
   "metadata": {},
   "outputs": [],
   "source": [
    "model=create_2pathed_shallow()"
   ]
  },
  {
   "cell_type": "code",
   "execution_count": 19,
   "metadata": {},
   "outputs": [
    {
     "name": "stdout",
     "output_type": "stream",
     "text": [
      "Model: \"model\"\n",
      "__________________________________________________________________________________________________\n",
      " Layer (type)                   Output Shape         Param #     Connected to                     \n",
      "==================================================================================================\n",
      " input_1 (InputLayer)           [(None, 128, 128, 1  0           []                               \n",
      "                                28, 3)]                                                           \n",
      "                                                                                                  \n",
      " conv3d (Conv3D)                (None, 126, 126, 12  656         ['input_1[0][0]']                \n",
      "                                6, 8)                                                             \n",
      "                                                                                                  \n",
      " conv3d_6 (Conv3D)              (None, 126, 126, 12  656         ['input_1[0][0]']                \n",
      "                                6, 8)                                                             \n",
      "                                                                                                  \n",
      " conv3d_1 (Conv3D)              (None, 124, 124, 12  1736        ['conv3d[0][0]']                 \n",
      "                                4, 8)                                                             \n",
      "                                                                                                  \n",
      " conv3d_7 (Conv3D)              (None, 124, 124, 12  1736        ['conv3d_6[0][0]']               \n",
      "                                4, 8)                                                             \n",
      "                                                                                                  \n",
      " conv3d_2 (Conv3D)              (None, 122, 122, 12  1736        ['conv3d_1[0][0]']               \n",
      "                                2, 8)                                                             \n",
      "                                                                                                  \n",
      " conv3d_8 (Conv3D)              (None, 122, 122, 12  1736        ['conv3d_7[0][0]']               \n",
      "                                2, 8)                                                             \n",
      "                                                                                                  \n",
      " max_pooling3d (MaxPooling3D)   (None, 61, 61, 61,   0           ['conv3d_2[0][0]']               \n",
      "                                8)                                                                \n",
      "                                                                                                  \n",
      " max_pooling3d_1 (MaxPooling3D)  (None, 61, 61, 61,   0          ['conv3d_8[0][0]']               \n",
      "                                8)                                                                \n",
      "                                                                                                  \n",
      " conv3d_3 (Conv3D)              (None, 59, 59, 59,   3472        ['max_pooling3d[0][0]']          \n",
      "                                16)                                                               \n",
      "                                                                                                  \n",
      " conv3d_9 (Conv3D)              (None, 59, 59, 59,   3472        ['max_pooling3d_1[0][0]']        \n",
      "                                16)                                                               \n",
      "                                                                                                  \n",
      " conv3d_4 (Conv3D)              (None, 57, 57, 57,   6928        ['conv3d_3[0][0]']               \n",
      "                                16)                                                               \n",
      "                                                                                                  \n",
      " conv3d_10 (Conv3D)             (None, 57, 57, 57,   6928        ['conv3d_9[0][0]']               \n",
      "                                16)                                                               \n",
      "                                                                                                  \n",
      " conv3d_5 (Conv3D)              (None, 55, 55, 55,   6928        ['conv3d_4[0][0]']               \n",
      "                                16)                                                               \n",
      "                                                                                                  \n",
      " conv3d_11 (Conv3D)             (None, 55, 55, 55,   6928        ['conv3d_10[0][0]']              \n",
      "                                16)                                                               \n",
      "                                                                                                  \n",
      " concatenate (Concatenate)      (None, 55, 55, 55,   0           ['conv3d_5[0][0]',               \n",
      "                                32)                               'conv3d_11[0][0]']              \n",
      "                                                                                                  \n",
      " conv3d_12 (Conv3D)             (None, 53, 53, 53,   27680       ['concatenate[0][0]']            \n",
      "                                32)                                                               \n",
      "                                                                                                  \n",
      " conv3d_13 (Conv3D)             (None, 51, 51, 51,   55360       ['conv3d_12[0][0]']              \n",
      "                                64)                                                               \n",
      "                                                                                                  \n",
      " conv3d_14 (Conv3D)             (None, 49, 49, 49,   221312      ['conv3d_13[0][0]']              \n",
      "                                128)                                                              \n",
      "                                                                                                  \n",
      " conv3d_transpose (Conv3DTransp  (None, 51, 51, 51,   442496     ['conv3d_14[0][0]']              \n",
      " ose)                           128)                                                              \n",
      "                                                                                                  \n",
      " conv3d_transpose_1 (Conv3DTran  (None, 53, 53, 53,   221248     ['conv3d_transpose[0][0]']       \n",
      " spose)                         64)                                                               \n",
      "                                                                                                  \n",
      " conv3d_transpose_2 (Conv3DTran  (None, 55, 55, 55,   55328      ['conv3d_transpose_1[0][0]']     \n",
      " spose)                         32)                                                               \n",
      "                                                                                                  \n",
      " conv3d_transpose_3 (Conv3DTran  (None, 57, 57, 57,   13840      ['conv3d_transpose_2[0][0]']     \n",
      " spose)                         16)                                                               \n",
      "                                                                                                  \n",
      " conv3d_transpose_4 (Conv3DTran  (None, 59, 59, 59,   6928       ['conv3d_transpose_3[0][0]']     \n",
      " spose)                         16)                                                               \n",
      "                                                                                                  \n",
      " conv3d_transpose_5 (Conv3DTran  (None, 61, 61, 61,   6928       ['conv3d_transpose_4[0][0]']     \n",
      " spose)                         16)                                                               \n",
      "                                                                                                  \n",
      " up_sampling3d (UpSampling3D)   (None, 122, 122, 12  0           ['conv3d_transpose_5[0][0]']     \n",
      "                                2, 16)                                                            \n",
      "                                                                                                  \n",
      " conv3d_transpose_6 (Conv3DTran  (None, 124, 124, 12  3464       ['up_sampling3d[0][0]']          \n",
      " spose)                         4, 8)                                                             \n",
      "                                                                                                  \n",
      " conv3d_transpose_7 (Conv3DTran  (None, 126, 126, 12  1736       ['conv3d_transpose_6[0][0]']     \n",
      " spose)                         6, 8)                                                             \n",
      "                                                                                                  \n",
      " conv3d_transpose_8 (Conv3DTran  (None, 128, 128, 12  1736       ['conv3d_transpose_7[0][0]']     \n",
      " spose)                         8, 8)                                                             \n",
      "                                                                                                  \n",
      "==================================================================================================\n",
      "Total params: 1,100,968\n",
      "Trainable params: 1,100,968\n",
      "Non-trainable params: 0\n",
      "__________________________________________________________________________________________________\n"
     ]
    }
   ],
   "source": [
    "model.summary()"
   ]
  },
  {
   "attachments": {},
   "cell_type": "markdown",
   "metadata": {},
   "source": []
  },
  {
   "cell_type": "code",
   "execution_count": 31,
   "metadata": {},
   "outputs": [],
   "source": [
    "sample,mask=next(traingen)"
   ]
  },
  {
   "cell_type": "code",
   "execution_count": 32,
   "metadata": {},
   "outputs": [
    {
     "data": {
      "text/plain": [
       "(16, 128, 128, 128, 3)"
      ]
     },
     "execution_count": 32,
     "metadata": {},
     "output_type": "execute_result"
    }
   ],
   "source": [
    "sample.shape"
   ]
  },
  {
   "cell_type": "code",
   "execution_count": 33,
   "metadata": {},
   "outputs": [
    {
     "data": {
      "text/plain": [
       "(16, 2097152, 4)"
      ]
     },
     "execution_count": 33,
     "metadata": {},
     "output_type": "execute_result"
    }
   ],
   "source": [
    "mask.shape"
   ]
  },
  {
   "cell_type": "code",
   "execution_count": 34,
   "metadata": {},
   "outputs": [],
   "source": [
    "#Compute steps per epoch\n",
    "def steps(m,batchsize):\n",
    "    return (m+batchsize-1)//batchsize"
   ]
  },
  {
   "cell_type": "code",
   "execution_count": 35,
   "metadata": {},
   "outputs": [],
   "source": [
    "train_steps=steps(len(train_sample_paths),16)\n",
    "test_steps=steps(len(test_sample_paths),16)\n"
   ]
  },
  {
   "cell_type": "code",
   "execution_count": 36,
   "metadata": {},
   "outputs": [
    {
     "data": {
      "text/plain": [
       "18"
      ]
     },
     "execution_count": 36,
     "metadata": {},
     "output_type": "execute_result"
    }
   ],
   "source": [
    "train_steps"
   ]
  },
  {
   "cell_type": "code",
   "execution_count": 37,
   "metadata": {},
   "outputs": [],
   "source": [
    "import datetime"
   ]
  },
  {
   "cell_type": "code",
   "execution_count": 38,
   "metadata": {},
   "outputs": [],
   "source": [
    "opt=tf.keras.optimizers.Adam(learning_rate=0.0001)\n",
    "model.compile(optimizer=opt,loss=tf.keras.losses.CategoricalCrossentropy(),metrics=[tf.keras.metrics.CategoricalAccuracy()])\n",
    "\n",
    "log_dir = \"logs/fit/\" + datetime.datetime.now().strftime(\"%Y%m%d-%H%M%S\")\n",
    "tensorboard_callback = tf.keras.callbacks.TensorBoard(log_dir=log_dir, histogram_freq=1)"
   ]
  },
  {
   "cell_type": "code",
   "execution_count": 39,
   "metadata": {},
   "outputs": [
    {
     "name": "stdout",
     "output_type": "stream",
     "text": [
      " 1/18 [>.............................] - ETA: 9:29:09 - loss: 1.9935 - categorical_accuracy: 0.0149"
     ]
    }
   ],
   "source": [
    "history=model.fit(traingen,steps_per_epoch=train_steps,epochs=1,validation_data=testgen,validation_steps=test_steps,verbose=1,callbacks=[tensorboard_callback])\n"
   ]
  },
  {
   "cell_type": "code",
   "execution_count": 19,
   "metadata": {},
   "outputs": [
    {
     "data": {
      "text/plain": [
       "Text(0.5, 1.0, 'Learning curve')"
      ]
     },
     "execution_count": 19,
     "metadata": {},
     "output_type": "execute_result"
    },
    {
     "data": {
      "image/png": "[encoded data removed]",
      "text/plain": [
       "<Figure size 640x480 with 1 Axes>"
      ]
     },
     "metadata": {},
     "output_type": "display_data"
    }
   ],
   "source": [
    "plt.plot(history.history[\"loss\"])\n",
    "plt.xlabel(\"epochs\")\n",
    "plt.ylabel(\"loss\")\n",
    "plt.title(\"Learning curve\") \n",
    "\n",
    "#Comments : base cnn model -> learning rate too quick, develop deeper architecture"
   ]
  },
  {
   "cell_type": "code",
   "execution_count": null,
   "metadata": {},
   "outputs": [],
   "source": []
  }
 ],
 "metadata": {
  "kernelspec": {
   "display_name": ".venv",
   "language": "python",
   "name": "python3"
  },
  "language_info": {
   "codemirror_mode": {
    "name": "ipython",
    "version": 3
   },
   "file_extension": ".py",
   "mimetype": "text/x-python",
   "name": "python",
   "nbconvert_exporter": "python",
   "pygments_lexer": "ipython3",
   "version": "3.8.0"
  },
  "orig_nbformat": 4
 },
 "nbformat": 4,
 "nbformat_minor": 2
}
