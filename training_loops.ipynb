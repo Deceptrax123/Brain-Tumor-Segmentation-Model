{
 "cells": [
  {
   "cell_type": "code",
   "execution_count": 1,
   "metadata": {},
   "outputs": [],
   "source": [
    "import numpy as np\n",
    "import matplotlib.pyplot as plt\n",
    "import tensorflow as tf\n",
    "import matplotlib.image as img\n",
    "from sklearn.model_selection import train_test_split\n",
    "from keras.optimizers import Adam,rmsprop,Adadelta\n",
    "from keras.metrics import categorical_crossentropy\n",
    "from batch_generator import batch_generator\n",
    "from metrics import (dice_coef,dice_loss,categorical_loss)\n",
    "from models import create\n",
    "from image_generator import generate_image\n",
    "import glob\n"
   ]
  },
  {
   "cell_type": "code",
   "execution_count": 2,
   "metadata": {},
   "outputs": [],
   "source": [
    "samples_paths=sorted(glob.glob(\"./Data/Train/samples_processed/*.npy\"))\n",
    "masks_paths=sorted(glob.glob(\"./Data/Train/masks_reformatted/*.npy\"))\n"
   ]
  },
  {
   "cell_type": "code",
   "execution_count": 3,
   "metadata": {},
   "outputs": [],
   "source": [
    "train_sample_paths,test_sample_paths=train_test_split(samples_paths,test_size=0.25)"
   ]
  },
  {
   "cell_type": "code",
   "execution_count": 4,
   "metadata": {},
   "outputs": [],
   "source": [
    "traingen=batch_generator(train_sample_paths,16) #Mini batch size of 16\n",
    "testgen=batch_generator(test_sample_paths,16)\n"
   ]
  },
  {
   "cell_type": "code",
   "execution_count": 5,
   "metadata": {},
   "outputs": [],
   "source": [
    "model=create()"
   ]
  },
  {
   "cell_type": "code",
   "execution_count": 6,
   "metadata": {},
   "outputs": [
    {
     "name": "stdout",
     "output_type": "stream",
     "text": [
      "Model: \"model\"\n",
      "_________________________________________________________________\n",
      " Layer (type)                Output Shape              Param #   \n",
      "=================================================================\n",
      " input_1 (InputLayer)        [(None, 128, 128, 128, 3  0         \n",
      "                             )]                                  \n",
      "                                                                 \n",
      " conv3d (Conv3D)             (None, 63, 63, 63, 8)     656       \n",
      "                                                                 \n",
      " conv3d_1 (Conv3D)           (None, 31, 31, 31, 16)    3472      \n",
      "                                                                 \n",
      " conv3d_2 (Conv3D)           (None, 15, 15, 15, 32)    13856     \n",
      "                                                                 \n",
      " conv3d_transpose (Conv3DTra  (None, 31, 31, 31, 32)   27680     \n",
      " nspose)                                                         \n",
      "                                                                 \n",
      " conv3d_transpose_1 (Conv3DT  (None, 63, 63, 63, 16)   13840     \n",
      " ranspose)                                                       \n",
      "                                                                 \n",
      " conv3d_transpose_2 (Conv3DT  (None, 126, 126, 126, 8)  3464     \n",
      " ranspose)                                                       \n",
      "                                                                 \n",
      " conv3d_transpose_3 (Conv3DT  (None, 128, 128, 128, 4)  868      \n",
      " ranspose)                                                       \n",
      "                                                                 \n",
      "=================================================================\n",
      "Total params: 63,836\n",
      "Trainable params: 63,836\n",
      "Non-trainable params: 0\n",
      "_________________________________________________________________\n"
     ]
    }
   ],
   "source": [
    "model.summary()"
   ]
  },
  {
   "cell_type": "code",
   "execution_count": 7,
   "metadata": {},
   "outputs": [],
   "source": [
    "sample,mask=next(traingen)"
   ]
  },
  {
   "cell_type": "code",
   "execution_count": 8,
   "metadata": {},
   "outputs": [
    {
     "data": {
      "text/plain": [
       "(16, 128, 128, 128, 3)"
      ]
     },
     "execution_count": 8,
     "metadata": {},
     "output_type": "execute_result"
    }
   ],
   "source": [
    "sample.shape"
   ]
  },
  {
   "cell_type": "code",
   "execution_count": 9,
   "metadata": {},
   "outputs": [
    {
     "data": {
      "text/plain": [
       "(16, 128, 128, 128, 4)"
      ]
     },
     "execution_count": 9,
     "metadata": {},
     "output_type": "execute_result"
    }
   ],
   "source": [
    "mask.shape"
   ]
  },
  {
   "cell_type": "code",
   "execution_count": 10,
   "metadata": {},
   "outputs": [],
   "source": [
    "#Compute steps per epoch\n",
    "def steps(m,batchsize):\n",
    "    return (m+batchsize-1)//batchsize"
   ]
  },
  {
   "cell_type": "code",
   "execution_count": 11,
   "metadata": {},
   "outputs": [],
   "source": [
    "train_steps=steps(len(train_sample_paths),16)\n",
    "test_steps=steps(len(test_sample_paths),16)\n"
   ]
  },
  {
   "cell_type": "code",
   "execution_count": 12,
   "metadata": {},
   "outputs": [],
   "source": [
    "opt=tf.keras.optimizers.Adam(learning_rate=0.001)\n",
    "model.compile(optimizer=opt,loss=tf.keras.losses.CategoricalCrossentropy(),metrics=[tf.keras.metrics.CategoricalAccuracy()])"
   ]
  },
  {
   "cell_type": "code",
   "execution_count": 13,
   "metadata": {},
   "outputs": [
    {
     "name": "stderr",
     "output_type": "stream",
     "text": [
      "C:\\Users\\Srinitish Srinivasan\\AppData\\Local\\Temp\\ipykernel_25992\\186443598.py:1: UserWarning: `Model.fit_generator` is deprecated and will be removed in a future version. Please use `Model.fit`, which supports generators.\n",
      "  history=model.fit_generator(traingen,steps_per_epoch=train_steps,epochs=20,validation_data=testgen,validation_steps=test_steps,verbose=1)\n"
     ]
    },
    {
     "name": "stdout",
     "output_type": "stream",
     "text": [
      "Epoch 1/20\n"
     ]
    },
    {
     "ename": "",
     "evalue": "",
     "output_type": "error",
     "traceback": [
      "\u001b[1;31mCanceled future for execute_request message before replies were done"
     ]
    },
    {
     "ename": "",
     "evalue": "",
     "output_type": "error",
     "traceback": [
      "\u001b[1;31mThe Kernel crashed while executing code in the the current cell or a previous cell. Please review the code in the cell(s) to identify a possible cause of the failure. Click <a href='https://aka.ms/vscodeJupyterKernelCrash'>here</a> for more info. View Jupyter <a href='command:jupyter.viewOutput'>log</a> for further details."
     ]
    }
   ],
   "source": [
    "history=model.fit_generator(traingen,steps_per_epoch=train_steps,epochs=20,validation_data=testgen,validation_steps=test_steps,verbose=1)\n"
   ]
  },
  {
   "cell_type": "code",
   "execution_count": null,
   "metadata": {},
   "outputs": [],
   "source": []
  }
 ],
 "metadata": {
  "kernelspec": {
   "display_name": ".venv",
   "language": "python",
   "name": "python3"
  },
  "language_info": {
   "codemirror_mode": {
    "name": "ipython",
    "version": 3
   },
   "file_extension": ".py",
   "mimetype": "text/x-python",
   "name": "python",
   "nbconvert_exporter": "python",
   "pygments_lexer": "ipython3",
   "version": "3.10.11"
  },
  "orig_nbformat": 4
 },
 "nbformat": 4,
 "nbformat_minor": 2
}
